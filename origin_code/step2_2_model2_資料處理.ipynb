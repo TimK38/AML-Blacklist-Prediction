{
 "cells": [
  {
   "cell_type": "code",
   "execution_count": 1,
   "metadata": {},
   "outputs": [],
   "source": [
    "import pickle\n",
    "import pandas as pd \n",
    "import numpy as np"
   ]
  },
  {
   "cell_type": "markdown",
   "metadata": {},
   "source": [
    "## predict的姓名，依據該姓名去取前後文，並且換成李家賢，加入tags=0/1，端看是否為黑名單"
   ]
  },
  {
   "cell_type": "code",
   "execution_count": 2,
   "metadata": {
    "scrolled": true
   },
   "outputs": [],
   "source": [
    "unpickled_df = pd.read_pickle(\"train_full_data.pkl\")"
   ]
  },
  {
   "cell_type": "code",
   "execution_count": null,
   "metadata": {},
   "outputs": [],
   "source": [
    "unpickled_df"
   ]
  },
  {
   "cell_type": "code",
   "execution_count": 23,
   "metadata": {},
   "outputs": [
    {
     "name": "stdout",
     "output_type": "stream",
     "text": [
      "[21, 154, 188, 221, 271, 354, 438, 473, 508, 577]\n"
     ]
    }
   ],
   "source": [
    "import re\n",
    "# 找出字串中，屬於該名字patretn的人\n",
    "def find_all_indexes(input_str, search_str):\n",
    "    matches = [m.start() for m in re.finditer(search_str, input_str)]\n",
    "    return matches\n",
    "\n",
    "#示範\n",
    "s =unpickled_df.iloc[195].article\n",
    "print(find_all_indexes(s, '陳淳伍'))"
   ]
  },
  {
   "cell_type": "code",
   "execution_count": 41,
   "metadata": {},
   "outputs": [
    {
     "name": "stdout",
     "output_type": "stream",
     "text": [
      "   article_index                                     truncated_text  tag name\n",
      "0              0  ewater Associates)、AQR 資產管理公司、曼氏集團 (Man Group)...    0  張堯勇\n",
      "1              0  索羅斯的量子基金，也打敗了股神巴菲特的價值投資。近年來台灣也逐漸重視量化交易，摩根亞太量化交...    0  張堯勇\n",
      "2              0  如何選股是一門學問。目前全球 60 個主要股市交易所，總市值 70 兆美元，而台灣上市上櫃市...    0  張堯勇\n",
      "3              0  中美貿易戰為例，台股上市、上櫃指數均是負報酬，不過，摩根量化交易卻是正報酬，而且波動度也比較...    0  張堯勇\n",
      "4              0  不準發放現金股利、部分保險公司必須儘快舉辦現金增資、以後賣的保單利率必須下降。另外台灣全體商...    0  張堯勇\n"
     ]
    }
   ],
   "source": [
    "import numpy as np\n",
    "import pandas as pd\n",
    "\n",
    "def generate_article_dataframe(unpickled_df, replace_name=\"李家賢\", context_window=(100, 50, 290)):\n",
    "    \"\"\"\n",
    "    根據輸入的文章資料，擷取每個名字在文章中的上下文片段，並標註是否為黑名單，最後輸出 DataFrame。\n",
    "\n",
    "    參數:\n",
    "    ----------\n",
    "    unpickled_df : pandas.DataFrame\n",
    "        必須包含以下欄位:\n",
    "        - article (str): 文章全文\n",
    "        - all_name (list[str]): 該篇文章中所有名字\n",
    "        - name_list (list[str]): 該篇文章中的黑名單名字\n",
    "    replace_name : str, 預設 \"李家賢\"\n",
    "        在擷取的文字片段中，將原來的人名替換成的名字。\n",
    "    context_window : tuple(int, int, int), 預設 (100, 50, 290)\n",
    "        定義上下文截取範圍:\n",
    "        - 第一個數字: 左邊最大截取距離 (或 20% 文長取最小)\n",
    "        - 第二個數字: 左邊最小截取距離 (或 20% 文長取最小)\n",
    "        - 第三個數字: 右邊截取的長度\n",
    "\n",
    "    回傳:\n",
    "    ----------\n",
    "    pandas.DataFrame\n",
    "        包含以下欄位:\n",
    "        - article_index : 該片段屬於第幾篇文章\n",
    "        - truncated_text : 擷取後的文字片段\n",
    "        - tag : 是否為黑名單 (1 = 黑名單, 0 = 非黑名單)\n",
    "        - name : 原始名字\n",
    "    \"\"\"\n",
    "\n",
    "    def find_all_indexes(text, substring):\n",
    "        \"\"\"回傳 substring 在 text 中所有出現位置 (list of index)。\"\"\"\n",
    "        start = 0\n",
    "        indexes = []\n",
    "        while True:\n",
    "            idx = text.find(substring, start)\n",
    "            if idx == -1:\n",
    "                break\n",
    "            indexes.append(idx)\n",
    "            start = idx + 1\n",
    "        return indexes\n",
    "\n",
    "    article_truncate = []\n",
    "    article_index = []\n",
    "    article_tags = []\n",
    "    article_tags_name = []\n",
    "\n",
    "    for i in range(len(unpickled_df)):\n",
    "        article_len = len(unpickled_df.iloc[i].article)\n",
    "        article_content = unpickled_df.iloc[i].article\n",
    "        all_name_list = unpickled_df.iloc[i].all_name\n",
    "\n",
    "        for j in all_name_list:\n",
    "            name_index = find_all_indexes(article_content, j)\n",
    "\n",
    "            for k in name_index:\n",
    "                # 標註黑名單\n",
    "                if j in unpickled_df.iloc[i].name_list:\n",
    "                    article_tags.append(1)\n",
    "                else:\n",
    "                    article_tags.append(0)\n",
    "\n",
    "                article_tags_name.append(j)\n",
    "\n",
    "                # 擷取上下文片段\n",
    "                left_start = np.clip(k - min(context_window[0], int(article_len * 0.2)), 0, 999999)\n",
    "                left_end = np.clip(k - min(context_window[1], int(article_len * 0.2)), 0, 999999) + context_window[2]\n",
    "\n",
    "                txt = article_content[left_start:left_end].replace(j, replace_name)\n",
    "\n",
    "                article_truncate.append(txt)\n",
    "                article_index.append(i)\n",
    "\n",
    "    df = pd.DataFrame({\n",
    "        \"article_index\": article_index,\n",
    "        \"truncated_text\": article_truncate,\n",
    "        \"tag\": article_tags,\n",
    "        \"name\": article_tags_name\n",
    "    })\n",
    "\n",
    "    return df\n",
    "    \n",
    "df_result = generate_article_dataframe(unpickled_df)\n",
    "print(df_result.head())\n"
   ]
  },
  {
   "cell_type": "code",
   "execution_count": 54,
   "metadata": {
    "scrolled": true
   },
   "outputs": [],
   "source": [
    "df_result.drop_duplicates(['truncated_text','name','tag']).reset_index(drop = True, inplace = True)"
   ]
  },
  {
   "cell_type": "code",
   "execution_count": 57,
   "metadata": {},
   "outputs": [],
   "source": [
    "df_result.to_csv('data/Sentiment_model_data/step2_2_output_train_data_300.csv' , index=0)"
   ]
  },
  {
   "cell_type": "code",
   "execution_count": null,
   "metadata": {},
   "outputs": [],
   "source": []
  },
  {
   "cell_type": "code",
   "execution_count": null,
   "metadata": {},
   "outputs": [],
   "source": []
  }
 ],
 "metadata": {
  "kernelspec": {
   "display_name": "Deepseek",
   "language": "python",
   "name": "python3"
  },
  "language_info": {
   "codemirror_mode": {
    "name": "ipython",
    "version": 3
   },
   "file_extension": ".py",
   "mimetype": "text/x-python",
   "name": "python",
   "nbconvert_exporter": "python",
   "pygments_lexer": "ipython3",
   "version": "3.11.11"
  }
 },
 "nbformat": 4,
 "nbformat_minor": 4
}
