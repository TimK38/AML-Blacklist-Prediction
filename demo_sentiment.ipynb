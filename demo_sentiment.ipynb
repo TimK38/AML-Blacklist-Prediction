{
 "cells": [
  {
   "cell_type": "code",
   "execution_count": 1,
   "id": "6f12f65f",
   "metadata": {},
   "outputs": [
    {
     "name": "stdout",
     "output_type": "stream",
     "text": [
      "============================================================\n",
      "情感分析模型訓練\n",
      "============================================================\n",
      "\n",
      "1. 準備資料...\n",
      "資料集大小: 29842\n",
      "標籤分布:\n",
      "tag\n",
      "0    27404\n",
      "1     2438\n",
      "Name: count, dtype: int64\n",
      "訓練集大小: 23872\n",
      "驗證集大小: 2985\n",
      "測試集大小: 2985\n",
      "\n",
      "2. 建立模型...\n",
      "模型參數數量: 102,269,186\n",
      "\n",
      "3. 開始訓練...\n",
      "開始訓練...\n",
      "設備: cuda:0\n",
      "訓練批次數: 1492\n",
      "驗證批次數: 187\n",
      "\n",
      "Epoch 1/3\n",
      "--------------------------------------------------\n",
      "訓練 - 損失: 0.1247, 準確率: 0.9521\n",
      "驗證 - 損失: 0.1035, 準確率: 0.9591\n",
      "模型已保存到: model/best_model_state.pth\n",
      "新的最佳驗證準確率: 0.9591\n",
      "\n",
      "Epoch 2/3\n",
      "--------------------------------------------------\n",
      "訓練 - 損失: 0.0615, 準確率: 0.9805\n",
      "驗證 - 損失: 0.0459, 準確率: 0.9873\n",
      "模型已保存到: model/best_model_state.pth\n",
      "新的最佳驗證準確率: 0.9873\n",
      "\n",
      "Epoch 3/3\n",
      "--------------------------------------------------\n",
      "訓練 - 損失: 0.0243, 準確率: 0.9938\n",
      "驗證 - 損失: 0.0460, 準確率: 0.9899\n",
      "模型已保存到: model/best_model_state.pth\n",
      "新的最佳驗證準確率: 0.9899\n",
      "\n",
      "訓練完成！最佳驗證準確率: 0.9899\n",
      "\n",
      "4. 評估模型...\n",
      "模型已載入: model/best_model_state.pth\n",
      "使用設備: cuda:0\n",
      "\n",
      "=== 測試集評估結果 ===\n",
      "分類報告:\n",
      "              precision    recall  f1-score   support\n",
      "\n",
      "    negative     0.9967    0.9920    0.9943      2741\n",
      "    positive     0.9144    0.9631    0.9381       244\n",
      "\n",
      "    accuracy                         0.9896      2985\n",
      "   macro avg     0.9555    0.9775    0.9662      2985\n",
      "weighted avg     0.9900    0.9896    0.9897      2985\n",
      "\n",
      "\n",
      "混淆矩陣:\n",
      "                      Predicted\n",
      "    Actual   negative   positive\n",
      "  negative       2719         22\n",
      "  positive          9        235\n",
      "\n",
      "整體準確率: 0.9896\n",
      "\n",
      "訓練完成！\n"
     ]
    }
   ],
   "source": [
    "from sentiment_model import train_model, Config\n",
    "\n",
    "# 或使用自定義配置\n",
    "config = Config()\n",
    "config.EPOCHS = 3\n",
    "config.BATCH_SIZE = 16\n",
    "model, history, test_results = train_model(config)"
   ]
  },
  {
   "cell_type": "code",
   "execution_count": 2,
   "id": "af7246c0",
   "metadata": {},
   "outputs": [
    {
     "name": "stdout",
     "output_type": "stream",
     "text": [
      "模型已載入: model/best_model_state.pth\n",
      "使用設備: cuda:0\n",
      "預測類別: negative\n",
      "信心度: 0.9947\n"
     ]
    }
   ],
   "source": [
    "from sentiment_model import SentimentPredictor\n",
    "\n",
    "# 建立預測器\n",
    "predictor = SentimentPredictor()\n",
    "\n",
    "# 預測單個文本\n",
    "result = predictor.predict_single(\"這是一個很好的產品\")\n",
    "print(f\"預測類別: {result['predicted_class']}\")\n",
    "print(f\"信心度: {result['confidence']:.4f}\")"
   ]
  },
  {
   "cell_type": "code",
   "execution_count": null,
   "id": "95a2e4bc",
   "metadata": {},
   "outputs": [],
   "source": []
  }
 ],
 "metadata": {
  "kernelspec": {
   "display_name": "Deepseek",
   "language": "python",
   "name": "python3"
  },
  "language_info": {
   "codemirror_mode": {
    "name": "ipython",
    "version": 3
   },
   "file_extension": ".py",
   "mimetype": "text/x-python",
   "name": "python",
   "nbconvert_exporter": "python",
   "pygments_lexer": "ipython3",
   "version": "3.11.11"
  }
 },
 "nbformat": 4,
 "nbformat_minor": 5
}
